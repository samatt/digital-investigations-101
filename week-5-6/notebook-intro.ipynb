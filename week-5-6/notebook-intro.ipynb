{
 "cells": [
  {
   "cell_type": "code",
   "execution_count": null,
   "id": "fdf959c2-2a57-43e1-8c4b-75e8a006d476",
   "metadata": {},
   "outputs": [],
   "source": [
    "## Intro to notebooks"
   ]
  },
  {
   "cell_type": "code",
   "execution_count": null,
   "id": "c72ad60e-b042-4337-b2fe-01917b8813f5",
   "metadata": {},
   "outputs": [],
   "source": [
    "import pandas as pd"
   ]
  },
  {
   "cell_type": "code",
   "execution_count": null,
   "id": "89745470-cf13-418c-9cc3-c7ca1066da74",
   "metadata": {},
   "outputs": [],
   "source": [
    "my_list = [2,4,6,8]"
   ]
  },
  {
   "cell_type": "code",
   "execution_count": null,
   "id": "4bd69284-f11f-4c8f-857b-ef5f5119fbfb",
   "metadata": {},
   "outputs": [],
   "source": [
    "my_series = pd.Series(my_list)"
   ]
  },
  {
   "cell_type": "raw",
   "id": "a21e9999-337c-45d4-b799-a9820ba2b4a6",
   "metadata": {},
   "source": [
    "my_series.sum()"
   ]
  },
  {
   "cell_type": "code",
   "execution_count": null,
   "id": "c5b5ffcf-eb80-4752-b5bd-f736a49ec811",
   "metadata": {},
   "outputs": [],
   "source": [
    "my_series.max()"
   ]
  },
  {
   "cell_type": "code",
   "execution_count": null,
   "id": "86d85cda-f096-479c-af70-53520201f3e9",
   "metadata": {},
   "outputs": [],
   "source": [
    "my_series.min()"
   ]
  },
  {
   "cell_type": "code",
   "execution_count": null,
   "id": "943af57e-88e7-4682-b269-d3741266345b",
   "metadata": {},
   "outputs": [],
   "source": [
    "my_series.mean()"
   ]
  },
  {
   "cell_type": "code",
   "execution_count": null,
   "id": "80d9d8c3-3249-477d-a544-aa2f4ef74204",
   "metadata": {},
   "outputs": [],
   "source": [
    "my_series.std()"
   ]
  },
  {
   "cell_type": "code",
   "execution_count": null,
   "id": "dd9f966b-7993-46f1-bc78-07c6cea4fa4f",
   "metadata": {},
   "outputs": [],
   "source": [
    "my_series.describe()"
   ]
  },
  {
   "cell_type": "code",
   "execution_count": null,
   "id": "bbcbae82-b019-4692-a43b-443def5224f8",
   "metadata": {},
   "outputs": [],
   "source": [
    "restaurants = pd.read_csv(\"DOHMH_New_York_City_Restaurant_Inspection_Results.csv\")"
   ]
  },
  {
   "cell_type": "code",
   "execution_count": null,
   "id": "f0bc22e6-e006-462e-89d6-643e208855d6",
   "metadata": {},
   "outputs": [],
   "source": [
    "# https://data.cityofnewyork.us/Health/DOHMH-New-York-City-Restaurant-Inspection-Results/43nn-pn8j/data"
   ]
  },
  {
   "cell_type": "code",
   "execution_count": null,
   "id": "748ab99c-d315-472a-ae39-5e8590b347b4",
   "metadata": {},
   "outputs": [],
   "source": [
    "restaurants.head()"
   ]
  },
  {
   "cell_type": "code",
   "execution_count": null,
   "id": "7d817d85-8233-4aac-b823-515d607d696a",
   "metadata": {},
   "outputs": [],
   "source": [
    "restaurants.describe()"
   ]
  },
  {
   "cell_type": "code",
   "execution_count": null,
   "id": "b718fa1c-76c2-4fd3-b760-f8db7aefda0f",
   "metadata": {},
   "outputs": [],
   "source": []
  },
  {
   "cell_type": "code",
   "execution_count": null,
   "id": "1ba3dfb2-b528-4101-a3ed-86ccc3928ec2",
   "metadata": {},
   "outputs": [],
   "source": [
    "restaurants.info()"
   ]
  },
  {
   "cell_type": "code",
   "execution_count": null,
   "id": "fde7f6d1-7955-409a-a8a6-6835ee53fb7c",
   "metadata": {},
   "outputs": [],
   "source": [
    "restaurants.GRADE\n",
    "restaurants[\"GRADE\"]"
   ]
  },
  {
   "cell_type": "code",
   "execution_count": null,
   "id": "fcb75e92-59e7-4078-8c22-72e83737b56a",
   "metadata": {},
   "outputs": [],
   "source": [
    "restaurants[\"GRADE\"].value_counts()\n",
    "restaurants[\"GRADE\"].value_counts().reset_index()"
   ]
  },
  {
   "cell_type": "code",
   "execution_count": null,
   "id": "67297319-9d3b-4f54-908f-2bbe32fbaef2",
   "metadata": {},
   "outputs": [],
   "source": [
    "MY_GRADE = \"A\"\n",
    "\n",
    "a = restaurants[restaurants.GRADE == MY_GRADE ]"
   ]
  },
  {
   "cell_type": "code",
   "execution_count": null,
   "id": "193fb5e9-e384-4496-bd57-a0cc761d17ea",
   "metadata": {},
   "outputs": [],
   "source": [
    "a[\"CUISINE DESCRIPTION\"].value_counts()"
   ]
  },
  {
   "cell_type": "code",
   "execution_count": null,
   "id": "08d5c94e-09ec-4dcc-8df0-6b47654d9ff7",
   "metadata": {},
   "outputs": [],
   "source": [
    "a.SCORE.mean()"
   ]
  },
  {
   "cell_type": "code",
   "execution_count": null,
   "id": "32df4fa8-c8c9-48bf-90f8-6cebe7791b1f",
   "metadata": {},
   "outputs": [],
   "source": [
    "restaurants[restaurants.GRADE == \"Z\" ][\"CUISINE DESCRIPTION\"].value_counts()"
   ]
  },
  {
   "cell_type": "code",
   "execution_count": null,
   "id": "61182fdc-9667-4bf1-8a47-371465249006",
   "metadata": {},
   "outputs": [],
   "source": [
    "merged_prop.sort_values(\"amount\")"
   ]
  },
  {
   "cell_type": "code",
   "execution_count": null,
   "id": "446701cd-5d57-4097-bc6d-f9eb222d63fe",
   "metadata": {},
   "outputs": [],
   "source": [
    "# Which borough has t"
   ]
  }
 ],
 "metadata": {
  "kernelspec": {
   "display_name": "Python 3",
   "language": "python",
   "name": "python3"
  },
  "language_info": {
   "codemirror_mode": {
    "name": "ipython",
    "version": 3
   },
   "file_extension": ".py",
   "mimetype": "text/x-python",
   "name": "python",
   "nbconvert_exporter": "python",
   "pygments_lexer": "ipython3",
   "version": "3.8.6"
  }
 },
 "nbformat": 4,
 "nbformat_minor": 5
}
